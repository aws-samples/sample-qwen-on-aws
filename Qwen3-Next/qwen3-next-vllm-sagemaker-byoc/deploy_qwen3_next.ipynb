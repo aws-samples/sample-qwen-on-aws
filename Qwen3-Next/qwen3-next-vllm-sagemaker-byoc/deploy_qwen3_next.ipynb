{
 "cells": [
  {
   "cell_type": "markdown",
   "metadata": {},
   "source": [
    "# Deploy Qwen3-Next-80B-A3B-Instruct on Amazon SageMaker\n",
    "\n",
    "This notebook demonstrates how to deploy the Qwen3-Next-80B-A3B-Instruct model on Amazon SageMaker using a custom vLLM container.\n",
    "\n",
    "## Model Overview\n",
    "- **Model**: Qwen3-Next-80B-A3B-Instruct\n",
    "- **Parameters**: 80B total (3B activated)\n",
    "- **Context Length**: 262K tokens (extensible to 1M+)\n",
    "- **Architecture**: Hybrid Attention + High-Sparsity MoE (512 experts, 10 activated)"
   ]
  },
  {
   "cell_type": "markdown",
   "metadata": {},
   "source": [
    "## Prerequisites\n",
    "\n",
    "1. AWS CLI configured with appropriate permissions\n",
    "2. SageMaker execution role with necessary permissions\n",
    "3. Access to ml.g6e.12xlarge for SageMaker endpoint\n",
    "4. Custom Docker image pushed to ECR using ```build_and_push.sh``` script"
   ]
  },
  {
   "cell_type": "code",
   "execution_count": 2,
   "metadata": {
    "execution": {
     "iopub.execute_input": "2025-09-18T14:52:24.013903Z",
     "iopub.status.busy": "2025-09-18T14:52:24.013537Z",
     "iopub.status.idle": "2025-09-18T14:52:24.016493Z",
     "shell.execute_reply": "2025-09-18T14:52:24.016010Z",
     "shell.execute_reply.started": "2025-09-18T14:52:24.013883Z"
    }
   },
   "outputs": [],
   "source": [
    "# !pip install -r code/requirements.txt"
   ]
  },
  {
   "cell_type": "code",
   "execution_count": 13,
   "metadata": {
    "collapsed": true,
    "jupyter": {
     "outputs_hidden": true
    }
   },
   "outputs": [
    {
     "name": "stdout",
     "output_type": "stream",
     "text": [
      "Requirement already satisfied: strands-agents in /home/ec2-user/anaconda3/envs/python3/lib/python3.10/site-packages (1.9.1)\n",
      "Requirement already satisfied: strands-agents-tools in /home/ec2-user/anaconda3/envs/python3/lib/python3.10/site-packages (0.2.8)\n",
      "Requirement already satisfied: boto3<2.0.0,>=1.26.0 in /home/ec2-user/anaconda3/envs/python3/lib/python3.10/site-packages (from strands-agents) (1.40.34)\n",
      "Requirement already satisfied: botocore<2.0.0,>=1.29.0 in /home/ec2-user/anaconda3/envs/python3/lib/python3.10/site-packages (from strands-agents) (1.40.34)\n",
      "Requirement already satisfied: docstring-parser<1.0,>=0.15 in /home/ec2-user/anaconda3/envs/python3/lib/python3.10/site-packages (from strands-agents) (0.17.0)\n",
      "Requirement already satisfied: mcp<2.0.0,>=1.11.0 in /home/ec2-user/anaconda3/envs/python3/lib/python3.10/site-packages (from strands-agents) (1.14.1)\n",
      "Requirement already satisfied: opentelemetry-api<2.0.0,>=1.30.0 in /home/ec2-user/anaconda3/envs/python3/lib/python3.10/site-packages (from strands-agents) (1.37.0)\n",
      "Requirement already satisfied: opentelemetry-instrumentation-threading<1.00b0,>=0.51b0 in /home/ec2-user/anaconda3/envs/python3/lib/python3.10/site-packages (from strands-agents) (0.58b0)\n",
      "Requirement already satisfied: opentelemetry-sdk<2.0.0,>=1.30.0 in /home/ec2-user/anaconda3/envs/python3/lib/python3.10/site-packages (from strands-agents) (1.37.0)\n",
      "Requirement already satisfied: pydantic<3.0.0,>=2.4.0 in /home/ec2-user/anaconda3/envs/python3/lib/python3.10/site-packages (from strands-agents) (2.11.7)\n",
      "Requirement already satisfied: typing-extensions<5.0.0,>=4.13.2 in /home/ec2-user/anaconda3/envs/python3/lib/python3.10/site-packages (from strands-agents) (4.15.0)\n",
      "Requirement already satisfied: watchdog<7.0.0,>=6.0.0 in /home/ec2-user/anaconda3/envs/python3/lib/python3.10/site-packages (from strands-agents) (6.0.0)\n",
      "Requirement already satisfied: jmespath<2.0.0,>=0.7.1 in /home/ec2-user/anaconda3/envs/python3/lib/python3.10/site-packages (from boto3<2.0.0,>=1.26.0->strands-agents) (1.0.1)\n",
      "Requirement already satisfied: s3transfer<0.15.0,>=0.14.0 in /home/ec2-user/anaconda3/envs/python3/lib/python3.10/site-packages (from boto3<2.0.0,>=1.26.0->strands-agents) (0.14.0)\n",
      "Requirement already satisfied: python-dateutil<3.0.0,>=2.1 in /home/ec2-user/anaconda3/envs/python3/lib/python3.10/site-packages (from botocore<2.0.0,>=1.29.0->strands-agents) (2.9.0.post0)\n",
      "Requirement already satisfied: urllib3!=2.2.0,<3,>=1.25.4 in /home/ec2-user/anaconda3/envs/python3/lib/python3.10/site-packages (from botocore<2.0.0,>=1.29.0->strands-agents) (2.5.0)\n",
      "Requirement already satisfied: anyio>=4.5 in /home/ec2-user/anaconda3/envs/python3/lib/python3.10/site-packages (from mcp<2.0.0,>=1.11.0->strands-agents) (4.10.0)\n",
      "Requirement already satisfied: httpx-sse>=0.4 in /home/ec2-user/anaconda3/envs/python3/lib/python3.10/site-packages (from mcp<2.0.0,>=1.11.0->strands-agents) (0.4.1)\n",
      "Requirement already satisfied: httpx>=0.27.1 in /home/ec2-user/anaconda3/envs/python3/lib/python3.10/site-packages (from mcp<2.0.0,>=1.11.0->strands-agents) (0.28.1)\n",
      "Requirement already satisfied: jsonschema>=4.20.0 in /home/ec2-user/anaconda3/envs/python3/lib/python3.10/site-packages (from mcp<2.0.0,>=1.11.0->strands-agents) (4.25.1)\n",
      "Requirement already satisfied: pydantic-settings>=2.5.2 in /home/ec2-user/anaconda3/envs/python3/lib/python3.10/site-packages (from mcp<2.0.0,>=1.11.0->strands-agents) (2.10.1)\n",
      "Requirement already satisfied: python-multipart>=0.0.9 in /home/ec2-user/anaconda3/envs/python3/lib/python3.10/site-packages (from mcp<2.0.0,>=1.11.0->strands-agents) (0.0.20)\n",
      "Requirement already satisfied: sse-starlette>=1.6.1 in /home/ec2-user/anaconda3/envs/python3/lib/python3.10/site-packages (from mcp<2.0.0,>=1.11.0->strands-agents) (3.0.2)\n",
      "Requirement already satisfied: starlette>=0.27 in /home/ec2-user/anaconda3/envs/python3/lib/python3.10/site-packages (from mcp<2.0.0,>=1.11.0->strands-agents) (0.47.3)\n",
      "Requirement already satisfied: uvicorn>=0.31.1 in /home/ec2-user/anaconda3/envs/python3/lib/python3.10/site-packages (from mcp<2.0.0,>=1.11.0->strands-agents) (0.35.0)\n",
      "Requirement already satisfied: importlib-metadata<8.8.0,>=6.0 in /home/ec2-user/anaconda3/envs/python3/lib/python3.10/site-packages (from opentelemetry-api<2.0.0,>=1.30.0->strands-agents) (6.11.0)\n",
      "Requirement already satisfied: zipp>=0.5 in /home/ec2-user/anaconda3/envs/python3/lib/python3.10/site-packages (from importlib-metadata<8.8.0,>=6.0->opentelemetry-api<2.0.0,>=1.30.0->strands-agents) (3.23.0)\n",
      "Requirement already satisfied: opentelemetry-instrumentation==0.58b0 in /home/ec2-user/anaconda3/envs/python3/lib/python3.10/site-packages (from opentelemetry-instrumentation-threading<1.00b0,>=0.51b0->strands-agents) (0.58b0)\n",
      "Requirement already satisfied: wrapt<2.0.0,>=1.0.0 in /home/ec2-user/anaconda3/envs/python3/lib/python3.10/site-packages (from opentelemetry-instrumentation-threading<1.00b0,>=0.51b0->strands-agents) (1.17.3)\n",
      "Requirement already satisfied: opentelemetry-semantic-conventions==0.58b0 in /home/ec2-user/anaconda3/envs/python3/lib/python3.10/site-packages (from opentelemetry-instrumentation==0.58b0->opentelemetry-instrumentation-threading<1.00b0,>=0.51b0->strands-agents) (0.58b0)\n",
      "Requirement already satisfied: packaging>=18.0 in /home/ec2-user/anaconda3/envs/python3/lib/python3.10/site-packages (from opentelemetry-instrumentation==0.58b0->opentelemetry-instrumentation-threading<1.00b0,>=0.51b0->strands-agents) (24.2)\n",
      "Requirement already satisfied: annotated-types>=0.6.0 in /home/ec2-user/anaconda3/envs/python3/lib/python3.10/site-packages (from pydantic<3.0.0,>=2.4.0->strands-agents) (0.7.0)\n",
      "Requirement already satisfied: pydantic-core==2.33.2 in /home/ec2-user/anaconda3/envs/python3/lib/python3.10/site-packages (from pydantic<3.0.0,>=2.4.0->strands-agents) (2.33.2)\n",
      "Requirement already satisfied: typing-inspection>=0.4.0 in /home/ec2-user/anaconda3/envs/python3/lib/python3.10/site-packages (from pydantic<3.0.0,>=2.4.0->strands-agents) (0.4.1)\n",
      "Requirement already satisfied: six>=1.5 in /home/ec2-user/anaconda3/envs/python3/lib/python3.10/site-packages (from python-dateutil<3.0.0,>=2.1->botocore<2.0.0,>=1.29.0->strands-agents) (1.17.0)\n",
      "Requirement already satisfied: aiohttp<4.0.0,>=3.8.0 in /home/ec2-user/anaconda3/envs/python3/lib/python3.10/site-packages (from strands-agents-tools) (3.12.15)\n",
      "Requirement already satisfied: aws-requests-auth<0.5.0,>=0.4.3 in /home/ec2-user/anaconda3/envs/python3/lib/python3.10/site-packages (from strands-agents-tools) (0.4.3)\n",
      "Requirement already satisfied: dill<0.5.0,>=0.4.0 in /home/ec2-user/anaconda3/envs/python3/lib/python3.10/site-packages (from strands-agents-tools) (0.4.0)\n",
      "Requirement already satisfied: markdownify<2.0.0,>=1.0.0 in /home/ec2-user/anaconda3/envs/python3/lib/python3.10/site-packages (from strands-agents-tools) (1.2.0)\n",
      "Requirement already satisfied: pillow<12.0.0,>=11.2.1 in /home/ec2-user/anaconda3/envs/python3/lib/python3.10/site-packages (from strands-agents-tools) (11.3.0)\n",
      "Requirement already satisfied: prompt-toolkit<4.0.0,>=3.0.51 in /home/ec2-user/anaconda3/envs/python3/lib/python3.10/site-packages (from strands-agents-tools) (3.0.51)\n",
      "Requirement already satisfied: pyjwt<3.0.0,>=2.10.1 in /home/ec2-user/anaconda3/envs/python3/lib/python3.10/site-packages (from strands-agents-tools) (2.10.1)\n",
      "Requirement already satisfied: readabilipy<1.0.0,>=0.2.0 in /home/ec2-user/anaconda3/envs/python3/lib/python3.10/site-packages (from strands-agents-tools) (0.3.0)\n",
      "Requirement already satisfied: requests<3.0.0,>=2.28.0 in /home/ec2-user/anaconda3/envs/python3/lib/python3.10/site-packages (from strands-agents-tools) (2.32.5)\n",
      "Requirement already satisfied: rich<15.0.0,>=14.0.0 in /home/ec2-user/anaconda3/envs/python3/lib/python3.10/site-packages (from strands-agents-tools) (14.1.0)\n",
      "Requirement already satisfied: slack-bolt<2.0.0,>=1.23.0 in /home/ec2-user/anaconda3/envs/python3/lib/python3.10/site-packages (from strands-agents-tools) (1.25.0)\n",
      "Requirement already satisfied: sympy<2.0.0,>=1.12.0 in /home/ec2-user/anaconda3/envs/python3/lib/python3.10/site-packages (from strands-agents-tools) (1.14.0)\n",
      "Requirement already satisfied: tenacity<10.0.0,>=9.1.2 in /home/ec2-user/anaconda3/envs/python3/lib/python3.10/site-packages (from strands-agents-tools) (9.1.2)\n",
      "Requirement already satisfied: aiohappyeyeballs>=2.5.0 in /home/ec2-user/anaconda3/envs/python3/lib/python3.10/site-packages (from aiohttp<4.0.0,>=3.8.0->strands-agents-tools) (2.6.1)\n",
      "Requirement already satisfied: aiosignal>=1.4.0 in /home/ec2-user/anaconda3/envs/python3/lib/python3.10/site-packages (from aiohttp<4.0.0,>=3.8.0->strands-agents-tools) (1.4.0)\n",
      "Requirement already satisfied: async-timeout<6.0,>=4.0 in /home/ec2-user/anaconda3/envs/python3/lib/python3.10/site-packages (from aiohttp<4.0.0,>=3.8.0->strands-agents-tools) (5.0.1)\n",
      "Requirement already satisfied: attrs>=17.3.0 in /home/ec2-user/anaconda3/envs/python3/lib/python3.10/site-packages (from aiohttp<4.0.0,>=3.8.0->strands-agents-tools) (25.3.0)\n",
      "Requirement already satisfied: frozenlist>=1.1.1 in /home/ec2-user/anaconda3/envs/python3/lib/python3.10/site-packages (from aiohttp<4.0.0,>=3.8.0->strands-agents-tools) (1.7.0)\n",
      "Requirement already satisfied: multidict<7.0,>=4.5 in /home/ec2-user/anaconda3/envs/python3/lib/python3.10/site-packages (from aiohttp<4.0.0,>=3.8.0->strands-agents-tools) (6.6.3)\n",
      "Requirement already satisfied: propcache>=0.2.0 in /home/ec2-user/anaconda3/envs/python3/lib/python3.10/site-packages (from aiohttp<4.0.0,>=3.8.0->strands-agents-tools) (0.3.1)\n",
      "Requirement already satisfied: yarl<2.0,>=1.17.0 in /home/ec2-user/anaconda3/envs/python3/lib/python3.10/site-packages (from aiohttp<4.0.0,>=3.8.0->strands-agents-tools) (1.20.1)\n",
      "Requirement already satisfied: beautifulsoup4<5,>=4.9 in /home/ec2-user/anaconda3/envs/python3/lib/python3.10/site-packages (from markdownify<2.0.0,>=1.0.0->strands-agents-tools) (4.13.5)\n",
      "Requirement already satisfied: soupsieve>1.2 in /home/ec2-user/anaconda3/envs/python3/lib/python3.10/site-packages (from beautifulsoup4<5,>=4.9->markdownify<2.0.0,>=1.0.0->strands-agents-tools) (2.7)\n",
      "Requirement already satisfied: wcwidth in /home/ec2-user/anaconda3/envs/python3/lib/python3.10/site-packages (from prompt-toolkit<4.0.0,>=3.0.51->strands-agents-tools) (0.2.13)\n",
      "Requirement already satisfied: html5lib in /home/ec2-user/anaconda3/envs/python3/lib/python3.10/site-packages (from readabilipy<1.0.0,>=0.2.0->strands-agents-tools) (1.1)\n",
      "Requirement already satisfied: lxml in /home/ec2-user/anaconda3/envs/python3/lib/python3.10/site-packages (from readabilipy<1.0.0,>=0.2.0->strands-agents-tools) (6.0.2)\n",
      "Requirement already satisfied: regex in /home/ec2-user/anaconda3/envs/python3/lib/python3.10/site-packages (from readabilipy<1.0.0,>=0.2.0->strands-agents-tools) (2025.7.34)\n",
      "Requirement already satisfied: charset_normalizer<4,>=2 in /home/ec2-user/anaconda3/envs/python3/lib/python3.10/site-packages (from requests<3.0.0,>=2.28.0->strands-agents-tools) (3.4.3)\n",
      "Requirement already satisfied: idna<4,>=2.5 in /home/ec2-user/anaconda3/envs/python3/lib/python3.10/site-packages (from requests<3.0.0,>=2.28.0->strands-agents-tools) (3.10)\n",
      "Requirement already satisfied: certifi>=2017.4.17 in /home/ec2-user/anaconda3/envs/python3/lib/python3.10/site-packages (from requests<3.0.0,>=2.28.0->strands-agents-tools) (2025.8.3)\n",
      "Requirement already satisfied: markdown-it-py>=2.2.0 in /home/ec2-user/anaconda3/envs/python3/lib/python3.10/site-packages (from rich<15.0.0,>=14.0.0->strands-agents-tools) (4.0.0)\n",
      "Requirement already satisfied: pygments<3.0.0,>=2.13.0 in /home/ec2-user/anaconda3/envs/python3/lib/python3.10/site-packages (from rich<15.0.0,>=14.0.0->strands-agents-tools) (2.19.2)\n",
      "Requirement already satisfied: slack_sdk<4,>=3.35.0 in /home/ec2-user/anaconda3/envs/python3/lib/python3.10/site-packages (from slack-bolt<2.0.0,>=1.23.0->strands-agents-tools) (3.36.0)\n",
      "Requirement already satisfied: mpmath<1.4,>=1.1.0 in /home/ec2-user/anaconda3/envs/python3/lib/python3.10/site-packages (from sympy<2.0.0,>=1.12.0->strands-agents-tools) (1.3.0)\n",
      "Requirement already satisfied: exceptiongroup>=1.0.2 in /home/ec2-user/anaconda3/envs/python3/lib/python3.10/site-packages (from anyio>=4.5->mcp<2.0.0,>=1.11.0->strands-agents) (1.3.0)\n",
      "Requirement already satisfied: sniffio>=1.1 in /home/ec2-user/anaconda3/envs/python3/lib/python3.10/site-packages (from anyio>=4.5->mcp<2.0.0,>=1.11.0->strands-agents) (1.3.1)\n",
      "Requirement already satisfied: httpcore==1.* in /home/ec2-user/anaconda3/envs/python3/lib/python3.10/site-packages (from httpx>=0.27.1->mcp<2.0.0,>=1.11.0->strands-agents) (1.0.9)\n",
      "Requirement already satisfied: h11>=0.16 in /home/ec2-user/anaconda3/envs/python3/lib/python3.10/site-packages (from httpcore==1.*->httpx>=0.27.1->mcp<2.0.0,>=1.11.0->strands-agents) (0.16.0)\n",
      "Requirement already satisfied: jsonschema-specifications>=2023.03.6 in /home/ec2-user/anaconda3/envs/python3/lib/python3.10/site-packages (from jsonschema>=4.20.0->mcp<2.0.0,>=1.11.0->strands-agents) (2025.4.1)\n",
      "Requirement already satisfied: referencing>=0.28.4 in /home/ec2-user/anaconda3/envs/python3/lib/python3.10/site-packages (from jsonschema>=4.20.0->mcp<2.0.0,>=1.11.0->strands-agents) (0.36.2)\n",
      "Requirement already satisfied: rpds-py>=0.7.1 in /home/ec2-user/anaconda3/envs/python3/lib/python3.10/site-packages (from jsonschema>=4.20.0->mcp<2.0.0,>=1.11.0->strands-agents) (0.27.0)\n",
      "Requirement already satisfied: mdurl~=0.1 in /home/ec2-user/anaconda3/envs/python3/lib/python3.10/site-packages (from markdown-it-py>=2.2.0->rich<15.0.0,>=14.0.0->strands-agents-tools) (0.1.2)\n",
      "Requirement already satisfied: python-dotenv>=0.21.0 in /home/ec2-user/anaconda3/envs/python3/lib/python3.10/site-packages (from pydantic-settings>=2.5.2->mcp<2.0.0,>=1.11.0->strands-agents) (1.1.1)\n",
      "Requirement already satisfied: click>=7.0 in /home/ec2-user/anaconda3/envs/python3/lib/python3.10/site-packages (from uvicorn>=0.31.1->mcp<2.0.0,>=1.11.0->strands-agents) (8.2.1)\n",
      "Requirement already satisfied: webencodings in /home/ec2-user/anaconda3/envs/python3/lib/python3.10/site-packages (from html5lib->readabilipy<1.0.0,>=0.2.0->strands-agents-tools) (0.5.1)\n",
      "Requirement already satisfied: pydantic==2.11.7 in /home/ec2-user/anaconda3/envs/python3/lib/python3.10/site-packages (2.11.7)\n",
      "Collecting openai\n",
      "  Downloading openai-1.109.1-py3-none-any.whl.metadata (29 kB)\n",
      "Requirement already satisfied: annotated-types>=0.6.0 in /home/ec2-user/anaconda3/envs/python3/lib/python3.10/site-packages (from pydantic==2.11.7) (0.7.0)\n",
      "Requirement already satisfied: pydantic-core==2.33.2 in /home/ec2-user/anaconda3/envs/python3/lib/python3.10/site-packages (from pydantic==2.11.7) (2.33.2)\n",
      "Requirement already satisfied: typing-extensions>=4.12.2 in /home/ec2-user/anaconda3/envs/python3/lib/python3.10/site-packages (from pydantic==2.11.7) (4.15.0)\n",
      "Requirement already satisfied: typing-inspection>=0.4.0 in /home/ec2-user/anaconda3/envs/python3/lib/python3.10/site-packages (from pydantic==2.11.7) (0.4.1)\n",
      "Requirement already satisfied: anyio<5,>=3.5.0 in /home/ec2-user/anaconda3/envs/python3/lib/python3.10/site-packages (from openai) (4.10.0)\n",
      "Collecting distro<2,>=1.7.0 (from openai)\n",
      "  Downloading distro-1.9.0-py3-none-any.whl.metadata (6.8 kB)\n",
      "Requirement already satisfied: httpx<1,>=0.23.0 in /home/ec2-user/anaconda3/envs/python3/lib/python3.10/site-packages (from openai) (0.28.1)\n",
      "Collecting jiter<1,>=0.4.0 (from openai)\n",
      "  Downloading jiter-0.11.0-cp310-cp310-manylinux_2_17_x86_64.manylinux2014_x86_64.whl.metadata (5.2 kB)\n",
      "Requirement already satisfied: sniffio in /home/ec2-user/anaconda3/envs/python3/lib/python3.10/site-packages (from openai) (1.3.1)\n",
      "Requirement already satisfied: tqdm>4 in /home/ec2-user/anaconda3/envs/python3/lib/python3.10/site-packages (from openai) (4.67.1)\n",
      "Requirement already satisfied: exceptiongroup>=1.0.2 in /home/ec2-user/anaconda3/envs/python3/lib/python3.10/site-packages (from anyio<5,>=3.5.0->openai) (1.3.0)\n",
      "Requirement already satisfied: idna>=2.8 in /home/ec2-user/anaconda3/envs/python3/lib/python3.10/site-packages (from anyio<5,>=3.5.0->openai) (3.10)\n",
      "Requirement already satisfied: certifi in /home/ec2-user/anaconda3/envs/python3/lib/python3.10/site-packages (from httpx<1,>=0.23.0->openai) (2025.8.3)\n",
      "Requirement already satisfied: httpcore==1.* in /home/ec2-user/anaconda3/envs/python3/lib/python3.10/site-packages (from httpx<1,>=0.23.0->openai) (1.0.9)\n",
      "Requirement already satisfied: h11>=0.16 in /home/ec2-user/anaconda3/envs/python3/lib/python3.10/site-packages (from httpcore==1.*->httpx<1,>=0.23.0->openai) (0.16.0)\n",
      "Downloading openai-1.109.1-py3-none-any.whl (948 kB)\n",
      "\u001b[2K   \u001b[90m━━━━━━━━━━━━━━━━━━━━━━━━━━━━━━━━━━━━━━━━\u001b[0m \u001b[32m948.6/948.6 kB\u001b[0m \u001b[31m42.2 MB/s\u001b[0m  \u001b[33m0:00:00\u001b[0m\n",
      "\u001b[?25hDownloading distro-1.9.0-py3-none-any.whl (20 kB)\n",
      "Downloading jiter-0.11.0-cp310-cp310-manylinux_2_17_x86_64.manylinux2014_x86_64.whl (348 kB)\n",
      "Installing collected packages: jiter, distro, openai\n",
      "\u001b[2K   \u001b[90m━━━━━━━━━━━━━━━━━━━━━━━━━━━━━━━━━━━━━━━━\u001b[0m \u001b[32m3/3\u001b[0m [openai]2m2/3\u001b[0m [openai]\n",
      "\u001b[1A\u001b[2KSuccessfully installed distro-1.9.0 jiter-0.11.0 openai-1.109.1\n",
      "Requirement already satisfied: mypy-boto3-sagemaker-runtime in /home/ec2-user/anaconda3/envs/python3/lib/python3.10/site-packages (1.40.17)\n",
      "Requirement already satisfied: typing-extensions in /home/ec2-user/anaconda3/envs/python3/lib/python3.10/site-packages (from mypy-boto3-sagemaker-runtime) (4.15.0)\n"
     ]
    }
   ],
   "source": [
    "!pip install -U strands-agents strands-agents-tools\n",
    "!pip install pydantic==2.11.7 openai  # Compatible version\n",
    "!pip install mypy-boto3-sagemaker-runtime  # Type stubs for SageMaker"
   ]
  },
  {
   "cell_type": "code",
   "execution_count": null,
   "metadata": {},
   "outputs": [],
   "source": [
    "import boto3\n",
    "import sagemaker\n",
    "from sagemaker.model import Model\n",
    "from sagemaker.predictor import Predictor\n",
    "from sagemaker.serializers import JSONSerializer\n",
    "from sagemaker.deserializers import JSONDeserializer\n",
    "import json\n",
    "import time\n",
    "from datetime import datetime\n",
    "\n",
    "import base64\n",
    "import requests\n",
    "import subprocess\n",
    "import os\n",
    "from typing import Dict, List, Any, Optional\n",
    "\n",
    "# Initialize SageMaker session and get execution role\n",
    "sagemaker_session = sagemaker.Session()\n",
    "role = sagemaker.get_execution_role()  # IAM role for SageMaker operations\n",
    "bucket = \"your-s3-bucket\"  # S3 bucket for storing model artifacts\n",
    "\n",
    "# Get AWS account and region information\n",
    "sts_client = boto3.client('sts')\n",
    "account_id = sts_client.get_caller_identity()['Account']\n",
    "region = boto3.Session().region_name\n",
    "\n",
    "print(f\"AWS Account ID: {account_id}\")\n",
    "print(f\"AWS Region: {region}\")\n",
    "print(f\"SageMaker role: {role}\")\n",
    "print(f\"S3 bucket: {bucket}\")"
   ]
  },
  {
   "cell_type": "code",
   "execution_count": 3,
   "metadata": {},
   "outputs": [
    {
     "name": "stdout",
     "output_type": "stream",
     "text": [
      "Custom container will be built and pushed to:\n",
      "Repository: qwen-vllm-byoc\n",
      "Image URI: 459006231907.dkr.ecr.us-west-2.amazonaws.com/qwen-vllm-byoc:latest\n"
     ]
    }
   ],
   "source": [
    "# Configuration for custom container\n",
    "repository_name = \"qwen-vllm-byoc\"\n",
    "image_tag = \"latest\"\n",
    "image_uri = f\"{account_id}.dkr.ecr.{region}.amazonaws.com/{repository_name}:{image_tag}\"\n",
    "\n",
    "print(f\"Custom container will be built and pushed to:\")\n",
    "print(f\"Repository: {repository_name}\")\n",
    "print(f\"Image URI: {image_uri}\")"
   ]
  },
  {
   "cell_type": "markdown",
   "metadata": {},
   "source": [
    "## Configuration"
   ]
  },
  {
   "cell_type": "code",
   "execution_count": null,
   "metadata": {},
   "outputs": [],
   "source": [
    "# 🎯 Model and Endpoint Configuration\n",
    "model_name = \"qwen3-next-80b-a3b-instruct\"\n",
    "endpoint_name = f\"{model_name}-{int(time.time())}\"  # Unique endpoint name with timestamp\n",
    "\n",
    "# 🖥️ Instance Configuration\n",
    "instance_type = \"ml.g6e.12xlarge\"  # 4x NVIDIA L40S GPUs, 192GB RAM\n",
    "instance_count = 1                  # Single instance deployment\n",
    "\n",
    "# 🗄️ Storage Configuration  \n",
    "prefix = \"qwen3-next-deployment\"              # S3 prefix for organization\n",
    "\n",
    "print(f\"🚀 Deployment Configuration:\")\n",
    "print(f\"   Model Name: {model_name}\")\n",
    "print(f\"   Endpoint Name: {endpoint_name}\")\n",
    "print(f\"   Instance Type: {instance_type}\")\n",
    "print(f\"   Instance Count: {instance_count}\")\n",
    "print(f\"   S3 Bucket: {bucket}\")\n",
    "print(f\"   S3 Prefix: {prefix}\")"
   ]
  },
  {
   "cell_type": "markdown",
   "metadata": {},
   "source": [
    "## Step 1: Create SageMaker Model Configuration\n",
    "\n",
    "Now we'll create the SageMaker model configuration that combines our custom container with the uploaded configuration files."
   ]
  },
  {
   "cell_type": "code",
   "execution_count": 6,
   "metadata": {},
   "outputs": [
    {
     "name": "stdout",
     "output_type": "stream",
     "text": [
      "🏗️ Creating SageMaker model configuration...\n",
      "✅ SageMaker model created successfully!\n"
     ]
    }
   ],
   "source": [
    "# Create SageMaker model configuration\n",
    "print(\"🏗️ Creating SageMaker model configuration...\")\n",
    "\n",
    "model = Model(\n",
    "    image_uri=image_uri,                        # Custom vLLM container\n",
    "    model_data=None,\n",
    "    role=role,                                       # SageMaker execution role\n",
    "    name=f\"{model_name}-model-{int(time.time())}\",   # Unique model name\n",
    "    sagemaker_session=sagemaker_session,\n",
    "    env={\n",
    "        # 🚀 vLLM Configuration\n",
    "        'VLLM_USE_V1': '1',                          # Use vLLM v1 engine (required for Qwen3-Next)\n",
    "        'VLLM_WORKER_MULTIPROC_METHOD': 'spawn',     # Process spawning method\n",
    "        'VLLM_DISTRIBUTED_EXECUTOR_BACKEND': 'mp',   # Multi-processing backend\n",
    "        'VLLM_LOGGING_LEVEL': 'INFO',                # Logging level\n",
    "        \n",
    "        # 🖥️ GPU Configuration  \n",
    "        'CUDA_VISIBLE_DEVICES': '0,1,2,3',           # Use all 4 GPUs\n",
    "        'TORCH_CUDA_ARCH_LIST': '8.9',               # NVIDIA L40S compute capability\n",
    "        \n",
    "        # 🗂️ Cache Directories\n",
    "        'MODEL_CACHE_DIR': '/opt/ml/model',          # Model cache location\n",
    "        'TRANSFORMERS_CACHE': '/tmp/transformers_cache',  # HuggingFace cache\n",
    "        'HF_HOME': '/tmp/hf_home',                   # HuggingFace home directory\n",
    "        \n",
    "        # 🌐 Server Configuration\n",
    "        'SAGEMAKER_BIND_TO_PORT': '8080',            # Internal server port\n",
    "        'SAGEMAKER_BIND_TO_HOST': '0.0.0.0',         # Bind to all interfaces\n",
    "        \n",
    "        # 🔧 Optimization Settings\n",
    "        'NCCL_DEBUG': 'INFO',                        # NCCL debugging (for multi-GPU)\n",
    "        'TORCH_COMPILE_DISABLE': '1',                # Disable PyTorch compilation\n",
    "        'VLLM_DISABLE_CUSTOM_ALL_REDUCE': '1',       # Disable custom all-reduce (stability)\n",
    "    }\n",
    ")\n",
    "\n",
    "print(f\"✅ SageMaker model created successfully!\")"
   ]
  },
  {
   "cell_type": "markdown",
   "metadata": {},
   "source": [
    "## Step 2: Deploy Model to SageMaker Endpoint\n",
    "\n",
    "This step creates and deploys the model to a real-time inference endpoint. The deployment includes:\n",
    "\n",
    "- **Model Loading**: Downloading Qwen3-Next-80B-A3B-Instruct from HuggingFace\n",
    "- **vLLM Initialization**: Setting up the inference engine with tensor parallelism\n",
    "- **Health Checks**: Ensuring the endpoint is ready for inference\n",
    "\n",
    "**⏱️ Expected Time**: 10-15 minutes"
   ]
  },
  {
   "cell_type": "code",
   "execution_count": 7,
   "metadata": {},
   "outputs": [
    {
     "name": "stdout",
     "output_type": "stream",
     "text": [
      "🚀 Starting deployment to endpoint: qwen3-next-80b-a3b-instruct-1758721723\n",
      "⏱️  Estimated Time: 10-15 minutes\n",
      "--------------!✅ Deployment completed successfully!\n"
     ]
    }
   ],
   "source": [
    "# Deploy the model to a SageMaker endpoint\n",
    "print(f\"🚀 Starting deployment to endpoint: {endpoint_name}\")\n",
    "print(f\"⏱️  Estimated Time: 10-15 minutes\")\n",
    "\n",
    "# Start deployment with optimized settings\n",
    "predictor = model.deploy(\n",
    "    initial_instance_count=instance_count,\n",
    "    instance_type=instance_type,\n",
    "    endpoint_name=endpoint_name,\n",
    "    serializer=JSONSerializer(),\n",
    "    deserializer=JSONDeserializer(),\n",
    "    container_startup_health_check_timeout=1200,  # 20 minutes for container startup\n",
    "    model_data_download_timeout=1200,             # 20 minutes for model download\n",
    "    wait=True,          # Wait for deployment to complete\n",
    ")\n",
    "\n",
    "print(f\"✅ Deployment completed successfully!\")"
   ]
  },
  {
   "cell_type": "code",
   "execution_count": 8,
   "metadata": {},
   "outputs": [
    {
     "name": "stdout",
     "output_type": "stream",
     "text": [
      "🔗 Connected to endpoint: qwen3-next-80b-a3b-instruct-1758721723\n"
     ]
    }
   ],
   "source": [
    "# Create predictor for inference (alternative to deployed predictor)\n",
    "\n",
    "from sagemaker.predictor import Predictor\n",
    "from sagemaker.serializers import JSONSerializer\n",
    "from sagemaker.deserializers import JSONDeserializer\n",
    "\n",
    "predictor = Predictor(\n",
    "    endpoint_name=endpoint_name,\n",
    "    serializer=JSONSerializer(),\n",
    "    deserializer=JSONDeserializer()\n",
    ")\n",
    "\n",
    "print(f\"🔗 Connected to endpoint: {endpoint_name}\")"
   ]
  },
  {
   "cell_type": "markdown",
   "metadata": {},
   "source": [
    "## Step 3: Test the Deployed Model\n",
    "\n",
    "Now let's test our deployed Qwen3-Next model with various inference scenarios:\n",
    "\n",
    "### 📝 Basic Chat Completion\n",
    "\n",
    "The model supports OpenAI-compatible chat completion format with system and user messages."
   ]
  },
  {
   "cell_type": "code",
   "execution_count": 10,
   "metadata": {
    "collapsed": true,
    "jupyter": {
     "outputs_hidden": true
    }
   },
   "outputs": [
    {
     "name": "stdout",
     "output_type": "stream",
     "text": [
      "✅ Code Generation Test Completed\n",
      "   Response Time: 12.72 seconds\n",
      "\n"
     ]
    },
    {
     "data": {
      "text/markdown": [
       "**Generated Code:**"
      ],
      "text/plain": [
       "<IPython.core.display.Markdown object>"
      ]
     },
     "metadata": {},
     "output_type": "display_data"
    },
    {
     "data": {
      "text/markdown": [
       "Here's a Python function to calculate the Fibonacci sequence using dynamic programming with memoization:\n",
       "\n",
       "```python\n",
       "def fibonacci_dp(n, memo={}):\n",
       "    \"\"\"\n",
       "    Calculate the nth Fibonacci number using dynamic programming with memoization.\n",
       "    \n",
       "    Args:\n",
       "        n (int): The position in the Fibonacci sequence (0-indexed)\n",
       "        memo (dict): Dictionary to store previously calculated values (default: empty dict)\n",
       "    \n",
       "    Returns:\n",
       "        int: The nth Fibonacci number\n",
       "    \n",
       "    Examples:\n",
       "        >>> fibonacci_dp(0)\n",
       "        0\n",
       "        >>> fibonacci_dp(1)\n",
       "        1\n",
       "        >>> fibonacci_dp(10)\n",
       "        55\n",
       "        >>> fibonacci_dp(50)\n",
       "        12586269025\n",
       "    \"\"\"\n",
       "    # Base cases\n",
       "    if n in memo:\n",
       "        return memo[n]\n",
       "    if n <= 1:\n",
       "        return n\n",
       "    \n",
       "    # Calculate using dynamic programming (memoization)\n",
       "    memo[n] = fibonacci_dp(n - 1, memo) + fibonacci_dp(n - 2, memo)\n",
       "    return memo[n]\n",
       "\n",
       "\n",
       "# Alternative iterative approach (more memory efficient)\n",
       "def fibonacci_dp_iterative(n):\n",
       "    \"\"\"\n",
       "    Calculate the nth Fibonacci number using an iterative dynamic programming approach.\n",
       "    This approach uses O(1) space instead of O(n) space for memoization.\n",
       "    \n",
       "    Args:\n",
       "        n (int): The position in the Fibonacci sequence (0-indexed)\n",
       "    \n",
       "    Returns:\n",
       "        int: The nth Fibonacci number\n",
       "    \n",
       "    Examples:\n",
       "        >>> fibonacci_dp_iterative(0)\n",
       "        0\n",
       "        >>> fibonacci_dp_iterative(1)\n",
       "        1\n",
       "        >>> fibonacci_dp_iterative(10)\n",
       "        55\n",
       "    \"\"\"\n",
       "    if n <= 1:\n",
       "        return n\n",
       "    \n",
       "    # Only keep track of the last two values\n",
       "    prev2 = 0  # F(0)\n",
       "    prev1 = 1  # F(1)\n",
       "    \n",
       "    # Calculate iteratively from 2 to n\n",
       "    for i in range(2, n + 1):\n",
       "        current = prev1 + prev2\n",
       "        prev2 = prev1\n",
       "        prev1 = current\n",
       "    \n",
       "    return prev1\n",
       "\n",
       "\n",
       "# Test function to demonstrate both approaches\n",
       "def test_fibonacci_functions():\n",
       "    \"\"\"Test both Fibonacci implementations with sample values.\"\"\"\n",
       "    test_cases = [0, 1, 2, 3, 4, 5, 10, 15, 20]\n",
       "    \n",
       "    print(\"Testing Fibonacci functions:\")\n",
       "    print(\"-\" * 50)\n",
       "    \n",
       "    for n in test_cases:\n",
       "        result1 = fibonacci_dp(n)\n",
       "        result2 = fibonacci_dp_iterative(n)\n",
       "        print(f\"F({n}) = {result1} (memoized) | {result2} (iterative)\")\n",
       "    \n",
       "    # Test performance with a larger number\n",
       "    print(\"\\nTesting with larger number (n=50):\")\n",
       "    import time\n",
       "    \n",
       "    start_time = time.time()\n",
       "    result_memo = fibonacci_dp(50)\n",
       "    memo_time = time.time() - start_time\n",
       "    \n",
       "    start_time = time.time()\n",
       "    result_iter = fibonacci_dp_iterative(50)\n",
       "    iter_time = time.time() - start_time\n",
       "    \n",
       "    print(f\"F(50) = {result_memo}\")\n",
       "    print(f\"Memoized time: {memo_time:.6f} seconds\")\n",
       "    print(f\"Iterative time: {iter_time:.6f} seconds\")\n",
       "\n",
       "\n",
       "if __name__ == \"__main__\":\n",
       "    test_fibonacci_functions()\n",
       "```\n",
       "\n",
       "## Key Features:\n",
       "\n",
       "### 1. **Memoized Recursive Approach (`fibonacci_dp`)**:\n",
       "- Uses a dictionary to store previously calculated values\n",
       "- Avoids redundant calculations by storing results\n",
       "- Time complexity: O(n)\n",
       "- Space complexity: O(n) for the memo dictionary and recursion stack\n",
       "\n",
       "### 2. **Iterative Approach (`fibonacci_dp_iterative`)**:\n",
       "- Uses only two variables to track the previous two Fibonacci numbers\n",
       "- No recursion overhead\n",
       "- Time complexity: O(n)\n",
       "- Space complexity: O(1) - most memory efficient\n",
       "\n",
       "### 3. **Why Dynamic Programming?**\n",
       "- **Overlapping Subproblems**: Fibonacci calculations repeatedly compute the same values\n",
       "- **Optimal Substructure**: The solution to F(n) depends on solutions to F(n-1) and F(n-2)\n",
       "- **Memoization** transforms the exponential O(2^n) naive recursive solution into linear O(n)\n",
       "\n",
       "### 4. **Performance Comparison**:\n",
       "- Naive recursion: O(2^n) - extremely slow for n > 40\n",
       "- DP memoized: O(n) - fast and readable\n",
       "- DP iterative: O(n) with O(1) space - most efficient for large n\n",
       "\n",
       "The iterative version is recommended for production code due to its constant space complexity and lack of recursion depth limits."
      ],
      "text/plain": [
       "<IPython.core.display.Markdown object>"
      ]
     },
     "metadata": {},
     "output_type": "display_data"
    }
   ],
   "source": [
    "# 🧪 Test 1: Code Generation\n",
    "from IPython.display import display, Markdown\n",
    "\n",
    "chat_request = {\n",
    "    \"messages\": [\n",
    "        {\n",
    "            \"role\": \"system\",\n",
    "            \"content\": \"You are a helpful Python programming assistant. Write clean, well-commented code.\"\n",
    "        },\n",
    "        {\n",
    "            \"role\": \"user\",\n",
    "            \"content\": \"Write a Python function to calculate the Fibonacci sequence using dynamic programming.\"\n",
    "        }\n",
    "    ],\n",
    "    \"max_tokens\": 1000,\n",
    "    \"temperature\": 0.7,\n",
    "    \"top_p\": 0.8,\n",
    "    \"top_k\": 20\n",
    "}\n",
    "\n",
    "# Measure inference time\n",
    "start_time = time.time()\n",
    "response = predictor.predict(chat_request)\n",
    "end_time = time.time()\n",
    "\n",
    "# Display results\n",
    "print(f\"✅ Code Generation Test Completed\")\n",
    "print(f\"   Response Time: {end_time - start_time:.2f} seconds\")\n",
    "print()\n",
    "\n",
    "# Render the response as Markdown\n",
    "display(Markdown(\"**Generated Code:**\"))\n",
    "display(Markdown(response[\"choices\"][0][\"message\"][\"content\"]))"
   ]
  },
  {
   "cell_type": "code",
   "execution_count": null,
   "metadata": {},
   "outputs": [],
   "source": [
    "# 🧪 Test 2: Scientific Explanation  \n",
    "print(\"🧪 Testing Scientific Explanation...\")\n",
    "\n",
    "science_request = {\n",
    "    \"messages\": [\n",
    "        {\n",
    "            \"role\": \"system\",\n",
    "            \"content\": \"You are a helpful science educator. Explain complex topics clearly with examples.\"\n",
    "        },\n",
    "        {\n",
    "            \"role\": \"user\",\n",
    "            \"content\": \"Explain quantum computing principles in simple terms with practical applications.\"\n",
    "        }\n",
    "    ],\n",
    "    \"max_tokens\": 1500,      \n",
    "    \"temperature\": 0.7,\n",
    "    \"top_p\": 0.8,\n",
    "    \"top_k\": 20\n",
    "}\n",
    "\n",
    "# Measure inference time\n",
    "start_time = time.time()\n",
    "response = predictor.predict(science_request)\n",
    "end_time = time.time()\n",
    "\n",
    "# Display results\n",
    "print(f\"✅ Scientific Explanation Test Completed\")\n",
    "print(f\"   Response Time: {end_time - start_time:.2f} seconds\")\n",
    "print()\n",
    "\n",
    "# Render the response\n",
    "display(Markdown(\"**Quantum Computing Explanation:**\"))\n",
    "display(Markdown(response[\"choices\"][0][\"message\"][\"content\"]))"
   ]
  },
  {
   "cell_type": "markdown",
   "metadata": {},
   "source": [
    "### 🤖 Advanced Integration: Strands Agents with Tool Use\n",
    "\n",
    "Qwen3-Next excels at tool calling and agent workflows. Here we integrate with **Strands Agents** framework for advanced AI agent capabilities."
   ]
  },
  {
   "cell_type": "code",
   "execution_count": 14,
   "metadata": {},
   "outputs": [
    {
     "name": "stdout",
     "output_type": "stream",
     "text": [
      "✅ Strands Agent configured successfully!\n"
     ]
    }
   ],
   "source": [
    "# 🤖 Configure Strands Agent with SageMaker Integration\n",
    "from strands import Agent\n",
    "from strands.models.sagemaker import SageMakerAIModel\n",
    "from strands_tools import calculator, current_time, file_read, shell\n",
    "\n",
    "\n",
    "# Create SageMaker AI Model for Strands\n",
    "sagemaker_model = SageMakerAIModel(\n",
    "    endpoint_config={\n",
    "        \"endpoint_name\": endpoint_name,      # Use our deployed endpoint\n",
    "        \"region_name\": region,               # AWS region\n",
    "    },\n",
    "    payload_config={\n",
    "        \"max_tokens\": 1000,                  # Response length limit\n",
    "        \"temperature\": 0.7,                  # Creativity level\n",
    "        \"stream\": False,                    \n",
    "    }\n",
    ")\n",
    "\n",
    "# Create agent with useful tools\n",
    "agent = Agent(\n",
    "    model=sagemaker_model, \n",
    "    tools=[\n",
    "        calculator,    # Mathematical calculations\n",
    "        current_time,  # Get current date/time\n",
    "        file_read,     # Read local files\n",
    "        shell          # Execute shell commands (use with caution)\n",
    "    ]\n",
    ")\n",
    "\n",
    "print(f\"✅ Strands Agent configured successfully!\")"
   ]
  },
  {
   "cell_type": "code",
   "execution_count": 15,
   "metadata": {},
   "outputs": [
    {
     "name": "stdout",
     "output_type": "stream",
     "text": [
      "\n",
      "Tool #1: calculator\n"
     ]
    },
    {
     "data": {
      "text/html": [
       "<pre style=\"white-space:pre;overflow-x:auto;line-height:normal;font-family:Menlo,'DejaVu Sans Mono',consolas,'Courier New',monospace\"><span style=\"color: #000080; text-decoration-color: #000080\">╭────────────────────────────────────────────── </span><span style=\"color: #000080; text-decoration-color: #000080; font-weight: bold\">Calculation Result</span><span style=\"color: #000080; text-decoration-color: #000080\"> ───────────────────────────────────────────────╮</span>\n",
       "<span style=\"color: #000080; text-decoration-color: #000080\">│</span>                                                                                                                 <span style=\"color: #000080; text-decoration-color: #000080\">│</span>\n",
       "<span style=\"color: #000080; text-decoration-color: #000080\">│</span>  ╭───────────┬─────────────────────╮                                                                            <span style=\"color: #000080; text-decoration-color: #000080\">│</span>\n",
       "<span style=\"color: #000080; text-decoration-color: #000080\">│</span>  │<span style=\"color: #008080; text-decoration-color: #008080\"> Operation </span>│<span style=\"color: #008000; text-decoration-color: #008000\"> Evaluate Expression </span>│                                                                            <span style=\"color: #000080; text-decoration-color: #000080\">│</span>\n",
       "<span style=\"color: #000080; text-decoration-color: #000080\">│</span>  │<span style=\"color: #008080; text-decoration-color: #008080\"> Input     </span>│<span style=\"color: #008000; text-decoration-color: #008000\"> sqrt(12)            </span>│                                                                            <span style=\"color: #000080; text-decoration-color: #000080\">│</span>\n",
       "<span style=\"color: #000080; text-decoration-color: #000080\">│</span>  │<span style=\"color: #008080; text-decoration-color: #008080\"> Result    </span>│<span style=\"color: #008000; text-decoration-color: #008000\"> 3.4641016151        </span>│                                                                            <span style=\"color: #000080; text-decoration-color: #000080\">│</span>\n",
       "<span style=\"color: #000080; text-decoration-color: #000080\">│</span>  ╰───────────┴─────────────────────╯                                                                            <span style=\"color: #000080; text-decoration-color: #000080\">│</span>\n",
       "<span style=\"color: #000080; text-decoration-color: #000080\">│</span>                                                                                                                 <span style=\"color: #000080; text-decoration-color: #000080\">│</span>\n",
       "<span style=\"color: #000080; text-decoration-color: #000080\">╰─────────────────────────────────────────────────────────────────────────────────────────────────────────────────╯</span>\n",
       "</pre>\n"
      ],
      "text/plain": [
       "\u001b[34m╭─\u001b[0m\u001b[34m─────────────────────────────────────────────\u001b[0m\u001b[34m \u001b[0m\u001b[1;34mCalculation Result\u001b[0m\u001b[34m \u001b[0m\u001b[34m──────────────────────────────────────────────\u001b[0m\u001b[34m─╮\u001b[0m\n",
       "\u001b[34m│\u001b[0m                                                                                                                 \u001b[34m│\u001b[0m\n",
       "\u001b[34m│\u001b[0m  ╭───────────┬─────────────────────╮                                                                            \u001b[34m│\u001b[0m\n",
       "\u001b[34m│\u001b[0m  │\u001b[36m \u001b[0m\u001b[36mOperation\u001b[0m\u001b[36m \u001b[0m│\u001b[32m \u001b[0m\u001b[32mEvaluate Expression\u001b[0m\u001b[32m \u001b[0m│                                                                            \u001b[34m│\u001b[0m\n",
       "\u001b[34m│\u001b[0m  │\u001b[36m \u001b[0m\u001b[36mInput    \u001b[0m\u001b[36m \u001b[0m│\u001b[32m \u001b[0m\u001b[32msqrt(12)           \u001b[0m\u001b[32m \u001b[0m│                                                                            \u001b[34m│\u001b[0m\n",
       "\u001b[34m│\u001b[0m  │\u001b[36m \u001b[0m\u001b[36mResult   \u001b[0m\u001b[36m \u001b[0m│\u001b[32m \u001b[0m\u001b[32m3.4641016151       \u001b[0m\u001b[32m \u001b[0m│                                                                            \u001b[34m│\u001b[0m\n",
       "\u001b[34m│\u001b[0m  ╰───────────┴─────────────────────╯                                                                            \u001b[34m│\u001b[0m\n",
       "\u001b[34m│\u001b[0m                                                                                                                 \u001b[34m│\u001b[0m\n",
       "\u001b[34m╰─────────────────────────────────────────────────────────────────────────────────────────────────────────────────╯\u001b[0m\n"
      ]
     },
     "metadata": {},
     "output_type": "display_data"
    },
    {
     "name": "stdout",
     "output_type": "stream",
     "text": [
      "The square root of 12 is approximately 3.4641016151.✅ Agent Response:\n",
      "   Stop Reason: end_turn\n",
      "   Cycles: 2\n",
      "   Duration: 1.01s\n",
      "\n"
     ]
    },
    {
     "data": {
      "text/markdown": [
       "The square root of 12 is approximately 3.4641016151."
      ],
      "text/plain": [
       "<IPython.core.display.Markdown object>"
      ]
     },
     "metadata": {},
     "output_type": "display_data"
    }
   ],
   "source": [
    "# 🧮 Test Agent with Mathematical Problem Solving\n",
    "\n",
    "response = agent(\"what's the square root of 12\")\n",
    "\n",
    "print(f\"✅ Agent Response:\")\n",
    "print(f\"   Stop Reason: {response.stop_reason}\")\n",
    "print(f\"   Cycles: {response.metrics.cycle_count}\")\n",
    "print(f\"   Duration: {sum(response.metrics.cycle_durations):.2f}s\")\n",
    "print()\n",
    "\n",
    "# Display the agent's mathematical reasoning\n",
    "display(Markdown(response.message['content'][0]['text']))"
   ]
  },
  {
   "cell_type": "markdown",
   "metadata": {},
   "source": [
    "## Step 4: Cleanup and Cost Management\n",
    "\n",
    "**⚠️ Important**: SageMaker endpoints incur costs while running. Remember to clean up resources when testing is complete.\n",
    "\n",
    "### 💰 Cost Information:\n",
    "- **ml.g6e.12xlarge**: ~$10.00/hour (varies by region)\n",
    "- **Storage**: S3 charges for model artifacts\n",
    "- **Data Transfer**: Charges for inference requests/responses"
   ]
  },
  {
   "cell_type": "code",
   "execution_count": null,
   "metadata": {
    "execution": {
     "iopub.status.busy": "2025-09-16T13:33:25.413961Z",
     "iopub.status.idle": "2025-09-16T13:33:25.414120Z",
     "shell.execute_reply": "2025-09-16T13:33:25.414046Z",
     "shell.execute_reply.started": "2025-09-16T13:33:25.414038Z"
    }
   },
   "outputs": [],
   "source": [
    "# 🗑️ Delete Endpoint (UNCOMMENT TO EXECUTE)\n",
    "# ⚠️ WARNING: This will delete your endpoint and stop all billing\n",
    "# Only run this when you're completely done with testing\n",
    "\n",
    "# print(f\"🗑️ Deleting endpoint: {endpoint_name}\")\n",
    "# predictor.delete_endpoint(delete_endpoint_config=True)\n",
    "# print(f\"✅ Endpoint {endpoint_name} deleted successfully\")\n",
    "\n",
    "print(\"💡 Cleanup Instructions:\")\n",
    "print(\"   1. Uncomment the deletion code above\")\n",
    "print(\"   2. Run the cell to delete the endpoint\")\n",
    "print(\"   3. Verify deletion in AWS Console\")\n",
    "print(\"   4. Check that billing has stopped\")\n",
    "\n",
    "# Show current endpoint status\n",
    "try:\n",
    "    import boto3\n",
    "    sm_client = boto3.client('sagemaker', region_name=region)\n",
    "    endpoint_desc = sm_client.describe_endpoint(EndpointName=endpoint_name)\n",
    "    status = endpoint_desc['EndpointStatus']\n",
    "    print(f\"\\n📊 Current endpoint status: {status}\")\n",
    "except Exception as e:\n",
    "    print(f\"\\n❓ Could not check endpoint status: {str(e)}\")"
   ]
  },
  {
   "cell_type": "markdown",
   "metadata": {},
   "source": [
    "## Summary\n",
    "\n",
    "### ✅ What We Accomplished\n",
    "\n",
    "1. **Successfully deployed** Qwen3-Next-80B-A3B-Instruct on SageMaker\n",
    "2. **Configured vLLM** with optimized settings for ml.g6e.12xlarge\n",
    "3. **Tested inference** with multiple scenarios (code generation, explanations)\n",
    "4. **Integrated Strands Agents** for advanced tool calling capabilities\n",
    "\n",
    "### 🚀 Key Features Enabled\n",
    "\n",
    "- **80B Parameter Model** with 3B activation per token (MoE efficiency)\n",
    "- **Multi-Token Prediction** for faster inference (2+ tokens per forward pass)\n",
    "- **Tool Calling** integration with Strands Agents framework\n",
    "- **Tensor Parallelism** across 4 NVIDIA L40S GPUs\n"
   ]
  }
 ],
 "metadata": {
  "kernelspec": {
   "display_name": "Python 3 (ipykernel)",
   "language": "python",
   "name": "python3"
  },
  "language_info": {
   "codemirror_mode": {
    "name": "ipython",
    "version": 3
   },
   "file_extension": ".py",
   "mimetype": "text/x-python",
   "name": "python",
   "nbconvert_exporter": "python",
   "pygments_lexer": "ipython3",
   "version": "3.12.9"
  }
 },
 "nbformat": 4,
 "nbformat_minor": 4
}
